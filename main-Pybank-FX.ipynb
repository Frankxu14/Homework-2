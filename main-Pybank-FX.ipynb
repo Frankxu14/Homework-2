{
 "cells": [
  {
   "cell_type": "code",
   "execution_count": 1,
   "metadata": {},
   "outputs": [],
   "source": [
    "# PyBank Homework-2\n",
    "\n",
    "import csv\n",
    "import pandas as pd\n",
    "from pathlib import Path\n",
    "\n",
    "# Inpute and output Files\n",
    "filepath=Path(\"Resources/budget_data.csv\")\n",
    "output_file=Path(\"Budget_analysis.txt\")"
   ]
  },
  {
   "cell_type": "code",
   "execution_count": 2,
   "metadata": {},
   "outputs": [],
   "source": [
    "# The total number of months included in the dataset.\n",
    "# The net total amount of Profit/Losses over the entire period.\n",
    "# The average of the changes in Profit/Losses over the entire period.\n",
    "# The greatest increase in profits (date and amount) over the entire period.\n",
    "# The greatest decrease in losses (date and amount) over the entire period."
   ]
  },
  {
   "cell_type": "code",
   "execution_count": 3,
   "metadata": {},
   "outputs": [],
   "source": [
    "# Set Variables\n",
    "total_months=0\n",
    "month_of_change=[]\n",
    "net_change_list=[]\n",
    "greatest_increase=[\"\", 0]\n",
    "greatest_decrease=[\"\", 1]\n",
    "total_net=0"
   ]
  },
  {
   "cell_type": "code",
   "execution_count": 4,
   "metadata": {},
   "outputs": [],
   "source": [
    "with open(filepath) as data:\n",
    "    reader = csv.reader(data)\n",
    "    header=next(reader)\n",
    "    \n",
    "    first_row=next(reader)\n",
    "    total_months=total_months+1\n",
    "    total_net=total_net+int(first_row[1])\n",
    "    previous_net=int(first_row[1])\n",
    "    \n",
    "    \n",
    "    \n",
    "    for row in reader:\n",
    "        total_months=total_months+1\n",
    "        total_net=total_net+int(row[1])\n",
    "        \n",
    "        net_change=int(row[1])-previous_net\n",
    "        previous_net=int(row[1])\n",
    "        \n",
    "        net_change_list=net_change_list+[net_change]\n",
    "        month_of_change=month_of_change+[row[0]]\n",
    "        \n",
    "        if net_change>greatest_increase[1]:\n",
    "            greatest_increase[0]=row[0]\n",
    "            greatest_increase[1]=net_change\n",
    "        \n",
    "        if net_change<greatest_decrease[1]:\n",
    "            greatest_decrease[0]=row[0]\n",
    "            greatest_decrease[1]=net_change"
   ]
  },
  {
   "cell_type": "code",
   "execution_count": null,
   "metadata": {},
   "outputs": [],
   "source": []
  },
  {
   "cell_type": "code",
   "execution_count": null,
   "metadata": {},
   "outputs": [],
   "source": []
  },
  {
   "cell_type": "code",
   "execution_count": 5,
   "metadata": {},
   "outputs": [
    {
     "data": {
      "text/plain": [
       "-2315.1176470588234"
      ]
     },
     "execution_count": 5,
     "metadata": {},
     "output_type": "execute_result"
    }
   ],
   "source": [
    "average_net_change=sum(net_change_list)/len(net_change_list)\n",
    "average_net_change"
   ]
  },
  {
   "cell_type": "code",
   "execution_count": 6,
   "metadata": {},
   "outputs": [],
   "source": [
    "with open(output_file, \"w\") as txt_file:\n",
    "    txt_file.write(f\"PyBank Financial Analysis\\n\")\n",
    "    txt_file.write(f\"----------------------------\\n\")\n",
    "    txt_file.write(f\"Total Months: {total_months}\\n\")\n",
    "    txt_file.write(f\"Total Amount of P/L: ${total_net}\\n\")\n",
    "    txt_file.write(f\"Average  Change: ${average_net_change}\\n\")\n",
    "    txt_file.write(f\"Greatest Increase in Profits: {greatest_increase[0]} (${greatest_increase[1]})\\n\")\n",
    "    txt_file.write(f\"Greatest Decrease in Profits: {greatest_decrease[0]} (${greatest_decrease[1]})\\n\")"
   ]
  },
  {
   "cell_type": "code",
   "execution_count": 7,
   "metadata": {},
   "outputs": [
    {
     "data": {
      "text/plain": [
       "38382578"
      ]
     },
     "execution_count": 7,
     "metadata": {},
     "output_type": "execute_result"
    }
   ],
   "source": [
    "total_net"
   ]
  },
  {
   "cell_type": "code",
   "execution_count": null,
   "metadata": {},
   "outputs": [],
   "source": []
  },
  {
   "cell_type": "code",
   "execution_count": null,
   "metadata": {},
   "outputs": [],
   "source": []
  },
  {
   "cell_type": "code",
   "execution_count": null,
   "metadata": {},
   "outputs": [],
   "source": []
  },
  {
   "cell_type": "code",
   "execution_count": null,
   "metadata": {},
   "outputs": [],
   "source": []
  },
  {
   "cell_type": "code",
   "execution_count": null,
   "metadata": {},
   "outputs": [],
   "source": []
  }
 ],
 "metadata": {
  "kernelspec": {
   "display_name": "Python 3",
   "language": "python",
   "name": "python3"
  },
  "language_info": {
   "codemirror_mode": {
    "name": "ipython",
    "version": 3
   },
   "file_extension": ".py",
   "mimetype": "text/x-python",
   "name": "python",
   "nbconvert_exporter": "python",
   "pygments_lexer": "ipython3",
   "version": "3.8.2"
  }
 },
 "nbformat": 4,
 "nbformat_minor": 4
}
